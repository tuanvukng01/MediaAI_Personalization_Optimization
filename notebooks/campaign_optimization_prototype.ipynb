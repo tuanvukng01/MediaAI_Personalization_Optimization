{
 "cells": [
  {
   "cell_type": "markdown",
   "metadata": {},
   "source": [
    "# News Recommendation Prototype\n\n",
    "This notebook demonstrates a quick prototype of generating recommendations using the trained recommender model."
   ],
   "id": "1ca289721a9acc40"
  },
  {
   "cell_type": "code",
   "metadata": {
    "ExecuteTime": {
     "end_time": "2024-12-19T21:26:12.308150Z",
     "start_time": "2024-12-19T21:26:11.361130Z"
    }
   },
   "source": [
    "import torch\n",
    "import pandas as pd\n",
    "from pathlib import Path\n\n",
    "from src.recommender.model import MFModel"
   ],
   "id": "e7e481142e6b0fe6",
   "outputs": [],
   "execution_count": 1
  },
  {
   "cell_type": "code",
   "metadata": {
    "ExecuteTime": {
     "end_time": "2024-12-19T21:26:12.312954Z",
     "start_time": "2024-12-19T21:26:12.308764Z"
    }
   },
   "source": [
    "# Load processed data\n",
    "news = pd.read_csv('../data/processed/processed_news.csv')\n",
    "unique_users = news['user_id'].unique()\n",
    "unique_items = news['article_id'].unique()\n",
    "user_to_idx = {u:i for i,u in enumerate(unique_users)}\n",
    "idx_to_user = {i:u for u,i in user_to_idx.items()}\n",
    "item_to_idx = {i:idx for idx,i in enumerate(unique_items)}\n",
    "idx_to_item = {idx:i for i,idx in item_to_idx.items()}\n"
   ],
   "id": "6b62f44f0b26fbe9",
   "outputs": [],
   "execution_count": 2
  },
  {
   "cell_type": "markdown",
   "metadata": {},
   "source": [
    "## Load Trained Model"
   ],
   "id": "673e5340d1b110a9"
  },
  {
   "cell_type": "code",
   "metadata": {
    "ExecuteTime": {
     "end_time": "2024-12-19T21:26:12.329731Z",
     "start_time": "2024-12-19T21:26:12.314663Z"
    }
   },
   "source": [
    "model_path = Path('../recommender_model.pth')\n",
    "model = MFModel(num_users=len(unique_users), num_items=len(unique_items))\n",
    "model.load_state_dict(torch.load(model_path))\n",
    "model.eval()"
   ],
   "id": "220b4d56f4ca12ce",
   "outputs": [
    {
     "name": "stderr",
     "output_type": "stream",
     "text": [
      "/var/folders/q6/d41hkr0s6j1bbxl7n9yh223m0000gn/T/ipykernel_29845/2662941789.py:3: FutureWarning: You are using `torch.load` with `weights_only=False` (the current default value), which uses the default pickle module implicitly. It is possible to construct malicious pickle data which will execute arbitrary code during unpickling (See https://github.com/pytorch/pytorch/blob/main/SECURITY.md#untrusted-models for more details). In a future release, the default value for `weights_only` will be flipped to `True`. This limits the functions that could be executed during unpickling. Arbitrary objects will no longer be allowed to be loaded via this mode unless they are explicitly allowlisted by the user via `torch.serialization.add_safe_globals`. We recommend you start setting `weights_only=True` for any use case where you don't have full control of the loaded file. Please open an issue on GitHub for any issues related to this experimental feature.\n",
      "  model.load_state_dict(torch.load(model_path))\n"
     ]
    },
    {
     "data": {
      "text/plain": [
       "MFModel(\n",
       "  (user_embedding): Embedding(19, 64)\n",
       "  (item_embedding): Embedding(41, 64)\n",
       "  (fc): Linear(in_features=64, out_features=1, bias=True)\n",
       ")"
      ]
     },
     "execution_count": 3,
     "metadata": {},
     "output_type": "execute_result"
    }
   ],
   "execution_count": 3
  },
  {
   "cell_type": "markdown",
   "metadata": {},
   "source": [
    "## Generate Recommendations for a Sample User"
   ],
   "id": "8ab2c28ee5e5b12e"
  },
  {
   "cell_type": "code",
   "metadata": {
    "ExecuteTime": {
     "end_time": "2024-12-19T21:26:12.348106Z",
     "start_time": "2024-12-19T21:26:12.330621Z"
    }
   },
   "source": [
    "sample_user = unique_users[0]\n",
    "user_idx = user_to_idx[sample_user]\n",
    "user_tensor = torch.tensor([user_idx]*len(unique_items), dtype=torch.long)\n",
    "items_tensor = torch.tensor(range(len(unique_items)), dtype=torch.long)\n",
    "with torch.no_grad():\n",
    "    scores = model(user_tensor, items_tensor)\n",
    "\n",
    "top_k = 5\n",
    "recommended_indices = torch.argsort(scores, descending=True)[:top_k]\n",
    "recommended_items = [idx_to_item[i.item()] for i in recommended_indices]\n",
    "recommended_items"
   ],
   "id": "5ba1fcd7e2b996b7",
   "outputs": [
    {
     "data": {
      "text/plain": [
       "[np.int64(162), np.int64(117), np.int64(153), np.int64(180), np.int64(114)]"
      ]
     },
     "execution_count": 4,
     "metadata": {},
     "output_type": "execute_result"
    }
   ],
   "execution_count": 4
  },
  {
   "cell_type": "markdown",
   "metadata": {},
   "source": [
    "The recommended item IDs above represent the top articles for the given user. You can adjust the logic as needed, integrate metadata, or refine the model further."
   ],
   "id": "ebb1352f09b40be2"
  }
 ],
 "metadata": {
  "kernelspec": {
   "display_name": "Python 3 (ipykernel)",
   "name": "python3",
   "language": "python"
  }
 },
 "nbformat": 4,
 "nbformat_minor": 5
}
