{
 "cells": [
  {
   "cell_type": "markdown",
   "metadata": {},
   "source": [
    "# Exploratory Data Analysis (EDA)\n\n",
    "This notebook explores the processed datasets for the AI-Powered News Personalization and Campaign Optimization Platform."
   ],
   "id": "c59f6446f666aa88"
  },
  {
   "cell_type": "code",
   "metadata": {
    "ExecuteTime": {
     "end_time": "2024-12-19T21:23:49.154646Z",
     "start_time": "2024-12-19T21:23:49.139821Z"
    }
   },
   "source": [
    "import pandas as pd\n",
    "import seaborn as sns\n",
    "import matplotlib.pyplot as plt\n",
    "%matplotlib inline\n",
    "\n",
    "news = pd.read_csv('../data/processed/processed_news.csv')\n",
    "articles = pd.read_csv('../data/processed/processed_articles.csv')\n",
    "user_profiles = pd.read_csv('../data/processed/processed_user_profiles.csv')\n",
    "campaigns = pd.read_csv('../data/processed/processed_campaigns.csv')\n",
    "demographics = pd.read_csv('../data/processed/processed_demographics.csv')\n"
   ],
   "id": "53bb08f393d22427",
   "outputs": [],
   "execution_count": 1
  },
  {
   "cell_type": "markdown",
   "metadata": {},
   "source": [
    "## Quick Glances"
   ],
   "id": "8bf479819e0a41fc"
  },
  {
   "cell_type": "code",
   "metadata": {
    "ExecuteTime": {
     "end_time": "2024-12-19T21:23:49.161863Z",
     "start_time": "2024-12-19T21:23:49.155495Z"
    }
   },
   "source": [
    "news.head()"
   ],
   "id": "ce3836a06fbcef3a",
   "outputs": [
    {
     "data": {
      "text/plain": [
       "   user_id  article_id  category   timestamp\n",
       "0        7         103  politics  2024-12-10\n",
       "1       20         101      tech  2024-12-13\n",
       "2       15         105    health  2024-12-30\n",
       "3       11         153    sports  2024-12-25\n",
       "4        8         103    sports  2024-12-21"
      ],
      "text/html": [
       "<div>\n",
       "<style scoped>\n",
       "    .dataframe tbody tr th:only-of-type {\n",
       "        vertical-align: middle;\n",
       "    }\n",
       "\n",
       "    .dataframe tbody tr th {\n",
       "        vertical-align: top;\n",
       "    }\n",
       "\n",
       "    .dataframe thead th {\n",
       "        text-align: right;\n",
       "    }\n",
       "</style>\n",
       "<table border=\"1\" class=\"dataframe\">\n",
       "  <thead>\n",
       "    <tr style=\"text-align: right;\">\n",
       "      <th></th>\n",
       "      <th>user_id</th>\n",
       "      <th>article_id</th>\n",
       "      <th>category</th>\n",
       "      <th>timestamp</th>\n",
       "    </tr>\n",
       "  </thead>\n",
       "  <tbody>\n",
       "    <tr>\n",
       "      <th>0</th>\n",
       "      <td>7</td>\n",
       "      <td>103</td>\n",
       "      <td>politics</td>\n",
       "      <td>2024-12-10</td>\n",
       "    </tr>\n",
       "    <tr>\n",
       "      <th>1</th>\n",
       "      <td>20</td>\n",
       "      <td>101</td>\n",
       "      <td>tech</td>\n",
       "      <td>2024-12-13</td>\n",
       "    </tr>\n",
       "    <tr>\n",
       "      <th>2</th>\n",
       "      <td>15</td>\n",
       "      <td>105</td>\n",
       "      <td>health</td>\n",
       "      <td>2024-12-30</td>\n",
       "    </tr>\n",
       "    <tr>\n",
       "      <th>3</th>\n",
       "      <td>11</td>\n",
       "      <td>153</td>\n",
       "      <td>sports</td>\n",
       "      <td>2024-12-25</td>\n",
       "    </tr>\n",
       "    <tr>\n",
       "      <th>4</th>\n",
       "      <td>8</td>\n",
       "      <td>103</td>\n",
       "      <td>sports</td>\n",
       "      <td>2024-12-21</td>\n",
       "    </tr>\n",
       "  </tbody>\n",
       "</table>\n",
       "</div>"
      ]
     },
     "execution_count": 2,
     "metadata": {},
     "output_type": "execute_result"
    }
   ],
   "execution_count": 2
  },
  {
   "cell_type": "code",
   "metadata": {
    "ExecuteTime": {
     "end_time": "2024-12-19T21:23:49.166996Z",
     "start_time": "2024-12-19T21:23:49.163558Z"
    }
   },
   "source": [
    "articles.head()"
   ],
   "id": "f778c7dc0aee8593",
   "outputs": [
    {
     "data": {
      "text/plain": [
       "   article_id author  length publish_date\n",
       "0         100  Alice    1171   2024-12-18\n",
       "1         101    Bob     940   2024-12-02\n",
       "2         102   Dave     772   2025-01-23\n",
       "3         103   Dave     450   2025-01-04\n",
       "4         104    Bob    1738   2024-12-16"
      ],
      "text/html": [
       "<div>\n",
       "<style scoped>\n",
       "    .dataframe tbody tr th:only-of-type {\n",
       "        vertical-align: middle;\n",
       "    }\n",
       "\n",
       "    .dataframe tbody tr th {\n",
       "        vertical-align: top;\n",
       "    }\n",
       "\n",
       "    .dataframe thead th {\n",
       "        text-align: right;\n",
       "    }\n",
       "</style>\n",
       "<table border=\"1\" class=\"dataframe\">\n",
       "  <thead>\n",
       "    <tr style=\"text-align: right;\">\n",
       "      <th></th>\n",
       "      <th>article_id</th>\n",
       "      <th>author</th>\n",
       "      <th>length</th>\n",
       "      <th>publish_date</th>\n",
       "    </tr>\n",
       "  </thead>\n",
       "  <tbody>\n",
       "    <tr>\n",
       "      <th>0</th>\n",
       "      <td>100</td>\n",
       "      <td>Alice</td>\n",
       "      <td>1171</td>\n",
       "      <td>2024-12-18</td>\n",
       "    </tr>\n",
       "    <tr>\n",
       "      <th>1</th>\n",
       "      <td>101</td>\n",
       "      <td>Bob</td>\n",
       "      <td>940</td>\n",
       "      <td>2024-12-02</td>\n",
       "    </tr>\n",
       "    <tr>\n",
       "      <th>2</th>\n",
       "      <td>102</td>\n",
       "      <td>Dave</td>\n",
       "      <td>772</td>\n",
       "      <td>2025-01-23</td>\n",
       "    </tr>\n",
       "    <tr>\n",
       "      <th>3</th>\n",
       "      <td>103</td>\n",
       "      <td>Dave</td>\n",
       "      <td>450</td>\n",
       "      <td>2025-01-04</td>\n",
       "    </tr>\n",
       "    <tr>\n",
       "      <th>4</th>\n",
       "      <td>104</td>\n",
       "      <td>Bob</td>\n",
       "      <td>1738</td>\n",
       "      <td>2024-12-16</td>\n",
       "    </tr>\n",
       "  </tbody>\n",
       "</table>\n",
       "</div>"
      ]
     },
     "execution_count": 3,
     "metadata": {},
     "output_type": "execute_result"
    }
   ],
   "execution_count": 3
  },
  {
   "cell_type": "code",
   "metadata": {
    "ExecuteTime": {
     "end_time": "2024-12-19T21:23:49.170515Z",
     "start_time": "2024-12-19T21:23:49.167597Z"
    }
   },
   "source": [
    "user_profiles.head()"
   ],
   "id": "9c22cf731e541e24",
   "outputs": [
    {
     "data": {
      "text/plain": [
       "   user_id preferred_category\n",
       "0        1           politics\n",
       "1        2           politics\n",
       "2        3           business\n",
       "3        4           business\n",
       "4        5      entertainment"
      ],
      "text/html": [
       "<div>\n",
       "<style scoped>\n",
       "    .dataframe tbody tr th:only-of-type {\n",
       "        vertical-align: middle;\n",
       "    }\n",
       "\n",
       "    .dataframe tbody tr th {\n",
       "        vertical-align: top;\n",
       "    }\n",
       "\n",
       "    .dataframe thead th {\n",
       "        text-align: right;\n",
       "    }\n",
       "</style>\n",
       "<table border=\"1\" class=\"dataframe\">\n",
       "  <thead>\n",
       "    <tr style=\"text-align: right;\">\n",
       "      <th></th>\n",
       "      <th>user_id</th>\n",
       "      <th>preferred_category</th>\n",
       "    </tr>\n",
       "  </thead>\n",
       "  <tbody>\n",
       "    <tr>\n",
       "      <th>0</th>\n",
       "      <td>1</td>\n",
       "      <td>politics</td>\n",
       "    </tr>\n",
       "    <tr>\n",
       "      <th>1</th>\n",
       "      <td>2</td>\n",
       "      <td>politics</td>\n",
       "    </tr>\n",
       "    <tr>\n",
       "      <th>2</th>\n",
       "      <td>3</td>\n",
       "      <td>business</td>\n",
       "    </tr>\n",
       "    <tr>\n",
       "      <th>3</th>\n",
       "      <td>4</td>\n",
       "      <td>business</td>\n",
       "    </tr>\n",
       "    <tr>\n",
       "      <th>4</th>\n",
       "      <td>5</td>\n",
       "      <td>entertainment</td>\n",
       "    </tr>\n",
       "  </tbody>\n",
       "</table>\n",
       "</div>"
      ]
     },
     "execution_count": 4,
     "metadata": {},
     "output_type": "execute_result"
    }
   ],
   "execution_count": 4
  },
  {
   "cell_type": "code",
   "metadata": {
    "ExecuteTime": {
     "end_time": "2024-12-19T21:23:49.174654Z",
     "start_time": "2024-12-19T21:23:49.171097Z"
    }
   },
   "source": [
    "campaigns.head()"
   ],
   "id": "f60c1ff9b59d56ba",
   "outputs": [
    {
     "data": {
      "text/plain": [
       "  campaign_id  age gender  clicks  impressions  cost\n",
       "0          C1   40      F     256          806   391\n",
       "1          C2   51      O      85          501   446\n",
       "2          C3   42      M     163          452   236\n",
       "3          C4   52      M     153          698    68\n",
       "4          C5   22      M      95          953   226"
      ],
      "text/html": [
       "<div>\n",
       "<style scoped>\n",
       "    .dataframe tbody tr th:only-of-type {\n",
       "        vertical-align: middle;\n",
       "    }\n",
       "\n",
       "    .dataframe tbody tr th {\n",
       "        vertical-align: top;\n",
       "    }\n",
       "\n",
       "    .dataframe thead th {\n",
       "        text-align: right;\n",
       "    }\n",
       "</style>\n",
       "<table border=\"1\" class=\"dataframe\">\n",
       "  <thead>\n",
       "    <tr style=\"text-align: right;\">\n",
       "      <th></th>\n",
       "      <th>campaign_id</th>\n",
       "      <th>age</th>\n",
       "      <th>gender</th>\n",
       "      <th>clicks</th>\n",
       "      <th>impressions</th>\n",
       "      <th>cost</th>\n",
       "    </tr>\n",
       "  </thead>\n",
       "  <tbody>\n",
       "    <tr>\n",
       "      <th>0</th>\n",
       "      <td>C1</td>\n",
       "      <td>40</td>\n",
       "      <td>F</td>\n",
       "      <td>256</td>\n",
       "      <td>806</td>\n",
       "      <td>391</td>\n",
       "    </tr>\n",
       "    <tr>\n",
       "      <th>1</th>\n",
       "      <td>C2</td>\n",
       "      <td>51</td>\n",
       "      <td>O</td>\n",
       "      <td>85</td>\n",
       "      <td>501</td>\n",
       "      <td>446</td>\n",
       "    </tr>\n",
       "    <tr>\n",
       "      <th>2</th>\n",
       "      <td>C3</td>\n",
       "      <td>42</td>\n",
       "      <td>M</td>\n",
       "      <td>163</td>\n",
       "      <td>452</td>\n",
       "      <td>236</td>\n",
       "    </tr>\n",
       "    <tr>\n",
       "      <th>3</th>\n",
       "      <td>C4</td>\n",
       "      <td>52</td>\n",
       "      <td>M</td>\n",
       "      <td>153</td>\n",
       "      <td>698</td>\n",
       "      <td>68</td>\n",
       "    </tr>\n",
       "    <tr>\n",
       "      <th>4</th>\n",
       "      <td>C5</td>\n",
       "      <td>22</td>\n",
       "      <td>M</td>\n",
       "      <td>95</td>\n",
       "      <td>953</td>\n",
       "      <td>226</td>\n",
       "    </tr>\n",
       "  </tbody>\n",
       "</table>\n",
       "</div>"
      ]
     },
     "execution_count": 5,
     "metadata": {},
     "output_type": "execute_result"
    }
   ],
   "execution_count": 5
  },
  {
   "cell_type": "code",
   "metadata": {
    "ExecuteTime": {
     "end_time": "2024-12-19T21:23:49.178590Z",
     "start_time": "2024-12-19T21:23:49.175244Z"
    }
   },
   "source": [
    "demographics.head()"
   ],
   "id": "218c98be583c5433",
   "outputs": [
    {
     "data": {
      "text/plain": [
       "   user_id  age gender location\n",
       "0        1   27      M       CA\n",
       "1        2   61      M       UK\n",
       "2        3   34      F       AU\n",
       "3        4   55      M       CN\n",
       "4        5   24      O       JP"
      ],
      "text/html": [
       "<div>\n",
       "<style scoped>\n",
       "    .dataframe tbody tr th:only-of-type {\n",
       "        vertical-align: middle;\n",
       "    }\n",
       "\n",
       "    .dataframe tbody tr th {\n",
       "        vertical-align: top;\n",
       "    }\n",
       "\n",
       "    .dataframe thead th {\n",
       "        text-align: right;\n",
       "    }\n",
       "</style>\n",
       "<table border=\"1\" class=\"dataframe\">\n",
       "  <thead>\n",
       "    <tr style=\"text-align: right;\">\n",
       "      <th></th>\n",
       "      <th>user_id</th>\n",
       "      <th>age</th>\n",
       "      <th>gender</th>\n",
       "      <th>location</th>\n",
       "    </tr>\n",
       "  </thead>\n",
       "  <tbody>\n",
       "    <tr>\n",
       "      <th>0</th>\n",
       "      <td>1</td>\n",
       "      <td>27</td>\n",
       "      <td>M</td>\n",
       "      <td>CA</td>\n",
       "    </tr>\n",
       "    <tr>\n",
       "      <th>1</th>\n",
       "      <td>2</td>\n",
       "      <td>61</td>\n",
       "      <td>M</td>\n",
       "      <td>UK</td>\n",
       "    </tr>\n",
       "    <tr>\n",
       "      <th>2</th>\n",
       "      <td>3</td>\n",
       "      <td>34</td>\n",
       "      <td>F</td>\n",
       "      <td>AU</td>\n",
       "    </tr>\n",
       "    <tr>\n",
       "      <th>3</th>\n",
       "      <td>4</td>\n",
       "      <td>55</td>\n",
       "      <td>M</td>\n",
       "      <td>CN</td>\n",
       "    </tr>\n",
       "    <tr>\n",
       "      <th>4</th>\n",
       "      <td>5</td>\n",
       "      <td>24</td>\n",
       "      <td>O</td>\n",
       "      <td>JP</td>\n",
       "    </tr>\n",
       "  </tbody>\n",
       "</table>\n",
       "</div>"
      ]
     },
     "execution_count": 6,
     "metadata": {},
     "output_type": "execute_result"
    }
   ],
   "execution_count": 6
  },
  {
   "cell_type": "markdown",
   "metadata": {},
   "source": [
    "## Basic Distributions\n\n",
    "Let's check the distributions of some key fields."
   ],
   "id": "6609efce62e58959"
  },
  {
   "cell_type": "code",
   "metadata": {
    "ExecuteTime": {
     "end_time": "2024-12-19T21:23:49.385259Z",
     "start_time": "2024-12-19T21:23:49.179224Z"
    }
   },
   "source": [
    "sns.countplot(x='category', data=news)\n",
    "plt.title('News Category Distribution')\n",
    "plt.xticks(rotation=45)\n",
    "plt.show()"
   ],
   "id": "c4c0c649fdfabc1b",
   "outputs": [
    {
     "data": {
      "text/plain": [
       "<Figure size 640x480 with 1 Axes>"
      ],
      "image/png": "[encoded data removed]"
     },
     "metadata": {},
     "output_type": "display_data"
    }
   ],
   "execution_count": 7
  },
  {
   "cell_type": "markdown",
   "metadata": {},
   "source": [
    "## Campaign CTR Distribution"
   ],
   "id": "224be8c7d129bb62"
  },
  {
   "cell_type": "code",
   "metadata": {
    "ExecuteTime": {
     "end_time": "2024-12-19T21:23:49.460135Z",
     "start_time": "2024-12-19T21:23:49.386067Z"
    }
   },
   "source": [
    "campaigns['ctr'] = campaigns['clicks']/campaigns['impressions']\n",
    "sns.histplot(campaigns['ctr'], kde=True)\n",
    "plt.title('Campaign CTR Distribution')\n",
    "plt.show()"
   ],
   "id": "460656aeb699d29f",
   "outputs": [
    {
     "data": {
      "text/plain": [
       "<Figure size 640x480 with 1 Axes>"
      ],
      "image/png": "[encoded data removed]"
     },
     "metadata": {},
     "output_type": "display_data"
    }
   ],
   "execution_count": 8
  },
  {
   "cell_type": "markdown",
   "metadata": {},
   "source": [
    "## Demographics Distribution"
   ],
   "id": "3ce7b463ce74270"
  },
  {
   "cell_type": "code",
   "metadata": {
    "ExecuteTime": {
     "end_time": "2024-12-19T21:23:49.535177Z",
     "start_time": "2024-12-19T21:23:49.461062Z"
    }
   },
   "source": [
    "sns.countplot(x='location', data=demographics)\n",
    "plt.title('User Locations')\n",
    "plt.xticks(rotation=45)\n",
    "plt.show()"
   ],
   "id": "40be295d53cc75d0",
   "outputs": [
    {
     "data": {
      "text/plain": [
       "<Figure size 640x480 with 1 Axes>"
      ],
      "image/png": "[encoded data removed]"
     },
     "metadata": {},
     "output_type": "display_data"
    }
   ],
   "execution_count": 9
  },
  {
   "cell_type": "markdown",
   "metadata": {},
   "source": [
    "The EDA provides insights into data distributions and relationships that can guide feature engineering and model selection."
   ],
   "id": "6f1253c2ac2d64eb"
  }
 ],
 "metadata": {
  "kernelspec": {
   "display_name": "Python 3 (ipykernel)",
   "name": "python3",
   "language": "python"
  },
  "language_info": {
   "name": "python"
  }
 },
 "nbformat": 4,
 "nbformat_minor": 5
}
